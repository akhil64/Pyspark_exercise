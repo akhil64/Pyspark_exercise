{
  "nbformat": 4,
  "nbformat_minor": 0,
  "metadata": {
    "colab": {
      "provenance": [],
      "authorship_tag": "ABX9TyNGvf9iSYKQxS4DVt3wTVJm",
      "include_colab_link": true
    },
    "kernelspec": {
      "name": "python3",
      "display_name": "Python 3"
    },
    "language_info": {
      "name": "python"
    }
  },
  "cells": [
    {
      "cell_type": "markdown",
      "metadata": {
        "id": "view-in-github",
        "colab_type": "text"
      },
      "source": [
        "<a href=\"https://colab.research.google.com/github/akhil64/Pyspark_exercise/blob/main/pyspark_assessment.ipynb\" target=\"_parent\"><img src=\"https://colab.research.google.com/assets/colab-badge.svg\" alt=\"Open In Colab\"/></a>"
      ]
    },
    {
      "cell_type": "code",
      "execution_count": null,
      "metadata": {
        "colab": {
          "base_uri": "https://localhost:8080/",
          "height": 254
        },
        "id": "JHsVWs_7J943",
        "outputId": "124ee1c5-7bc7-4811-bc47-0336c8c9fb72"
      },
      "outputs": [
        {
          "output_type": "stream",
          "name": "stdout",
          "text": [
            "database.csv  spark-3.1.1-bin-hadoop3.2      spark-3.1.1-bin-hadoop3.2.tgz.1\n",
            "sample_data   spark-3.1.1-bin-hadoop3.2.tgz\n"
          ]
        },
        {
          "output_type": "execute_result",
          "data": {
            "text/plain": [
              "<pyspark.sql.session.SparkSession at 0x7f7e9fc79720>"
            ],
            "text/html": [
              "\n",
              "            <div>\n",
              "                <p><b>SparkSession - in-memory</b></p>\n",
              "                \n",
              "        <div>\n",
              "            <p><b>SparkContext</b></p>\n",
              "\n",
              "            <p><a href=\"http://9a6cd0fccc37:4040\">Spark UI</a></p>\n",
              "\n",
              "            <dl>\n",
              "              <dt>Version</dt>\n",
              "                <dd><code>v3.1.1</code></dd>\n",
              "              <dt>Master</dt>\n",
              "                <dd><code>local[*]</code></dd>\n",
              "              <dt>AppName</dt>\n",
              "                <dd><code>pyspark-shell</code></dd>\n",
              "            </dl>\n",
              "        </div>\n",
              "        \n",
              "            </div>\n",
              "        "
            ]
          },
          "metadata": {},
          "execution_count": 4
        }
      ],
      "source": [
        "!apt-get install openjdk-8-jdk-headless -qq > /dev/null\n",
        "!wget -q http://archive.apache.org/dist/spark/spark-3.1.1/spark-3.1.1-bin-hadoop3.2.tgz\n",
        "!tar xf spark-3.1.1-bin-hadoop3.2.tgz\n",
        "!pip install -q findspark\n",
        "\n",
        "import os\n",
        "os.environ[\"JAVA_HOME\"] = \"/usr/lib/jvm/java-8-openjdk-amd64\"\n",
        "os.environ[\"SPARK_HOME\"] = \"/content/spark-3.1.1-bin-hadoop3.2\"\n",
        "\n",
        "!ls\n",
        "\n",
        "import findspark\n",
        "findspark.init()\n",
        "\n",
        "from pyspark.sql import SparkSession\n",
        "spark = SparkSession.builder.master(\"local[*]\").getOrCreate()\n",
        "spark"
      ]
    },
    {
      "cell_type": "code",
      "source": [
        "mydata = spark.read.csv(\"database.csv\",header= True)\n",
        "mydata.show()"
      ],
      "metadata": {
        "colab": {
          "base_uri": "https://localhost:8080/"
        },
        "id": "sriW7rR4K2RZ",
        "outputId": "095a1b82-798a-4ba9-9202-ce3768be9aaf"
      },
      "execution_count": null,
      "outputs": [
        {
          "output_type": "stream",
          "name": "stdout",
          "text": [
            "+----------+--------+--------+---------+----------+-----+-----------+----------------------+---------+--------------+---------------+--------------------------+-------------+-------------------+----------------+----------------+--------------------+---------+---------------+----------------+---------+\n",
            "|      Date|    Time|Latitude|Longitude|      Type|Depth|Depth Error|Depth Seismic Stations|Magnitude|Magnitude Type|Magnitude Error|Magnitude Seismic Stations|Azimuthal Gap|Horizontal Distance|Horizontal Error|Root Mean Square|                  ID|   Source|Location Source|Magnitude Source|   Status|\n",
            "+----------+--------+--------+---------+----------+-----+-----------+----------------------+---------+--------------+---------------+--------------------------+-------------+-------------------+----------------+----------------+--------------------+---------+---------------+----------------+---------+\n",
            "|01/02/1965|13:44:18|  19.246|  145.616|Earthquake|131.6|       null|                  null|        6|            MW|           null|                      null|         null|               null|            null|            null|        ISCGEM860706|   ISCGEM|         ISCGEM|          ISCGEM|Automatic|\n",
            "|01/04/1965|11:29:49|   1.863|  127.352|Earthquake|   80|       null|                  null|      5.8|            MW|           null|                      null|         null|               null|            null|            null|        ISCGEM860737|   ISCGEM|         ISCGEM|          ISCGEM|Automatic|\n",
            "|01/05/1965|18:05:58| -20.579| -173.972|Earthquake|   20|       null|                  null|      6.2|            MW|           null|                      null|         null|               null|            null|            null|        ISCGEM860762|   ISCGEM|         ISCGEM|          ISCGEM|Automatic|\n",
            "|01/08/1965|18:49:43| -59.076|  -23.557|Earthquake|   15|       null|                  null|      5.8|            MW|           null|                      null|         null|               null|            null|            null|        ISCGEM860856|   ISCGEM|         ISCGEM|          ISCGEM|Automatic|\n",
            "|01/09/1965|13:32:50|  11.938|  126.427|Earthquake|   15|       null|                  null|      5.8|            MW|           null|                      null|         null|               null|            null|            null|        ISCGEM860890|   ISCGEM|         ISCGEM|          ISCGEM|Automatic|\n",
            "|01/10/1965|13:36:32| -13.405|  166.629|Earthquake|   35|       null|                  null|      6.7|            MW|           null|                      null|         null|               null|            null|            null|        ISCGEM860922|   ISCGEM|         ISCGEM|          ISCGEM|Automatic|\n",
            "|01/12/1965|13:32:25|  27.357|   87.867|Earthquake|   20|       null|                  null|      5.9|            MW|           null|                      null|         null|               null|            null|            null|        ISCGEM861007|   ISCGEM|         ISCGEM|          ISCGEM|Automatic|\n",
            "|01/15/1965|23:17:42| -13.309|  166.212|Earthquake|   35|       null|                  null|        6|            MW|           null|                      null|         null|               null|            null|            null|        ISCGEM861111|   ISCGEM|         ISCGEM|          ISCGEM|Automatic|\n",
            "|01/16/1965|11:32:37| -56.452|  -27.043|Earthquake|   95|       null|                  null|        6|            MW|           null|                      null|         null|               null|            null|            null|     ISCGEMSUP861125|ISCGEMSUP|         ISCGEM|          ISCGEM|Automatic|\n",
            "|01/17/1965|10:43:17| -24.563|  178.487|Earthquake|  565|       null|                  null|      5.8|            MW|           null|                      null|         null|               null|            null|            null|        ISCGEM861148|   ISCGEM|         ISCGEM|          ISCGEM|Automatic|\n",
            "|01/17/1965|20:57:41|  -6.807|  108.988|Earthquake|227.9|       null|                  null|      5.9|            MW|           null|                      null|         null|               null|            null|            null|        ISCGEM861155|   ISCGEM|         ISCGEM|          ISCGEM|Automatic|\n",
            "|01/24/1965|00:11:17|  -2.608|  125.952|Earthquake|   20|       null|                  null|      8.2|            MW|           null|                      null|         null|               null|            null|            null|        ISCGEM861299|   ISCGEM|         ISCGEM|          ISCGEM|Automatic|\n",
            "|01/29/1965|09:35:30|  54.636|  161.703|Earthquake|   55|       null|                  null|      5.5|            MW|           null|                      null|         null|               null|            null|            null|        ISCGEM861461|   ISCGEM|         ISCGEM|          ISCGEM|Automatic|\n",
            "|02/01/1965|05:27:06| -18.697| -177.864|Earthquake|482.9|       null|                  null|      5.6|            MW|           null|                      null|         null|               null|            null|            null|        ISCGEM859136|   ISCGEM|         ISCGEM|          ISCGEM|Automatic|\n",
            "|02/02/1965|15:56:51|  37.523|   73.251|Earthquake|   15|       null|                  null|        6|            MW|           null|                      null|         null|               null|            null|            null|        ISCGEM859164|   ISCGEM|         ISCGEM|          ISCGEM|Automatic|\n",
            "|02/04/1965|03:25:00|  -51.84|  139.741|Earthquake|   10|       null|                  null|      6.1|            MW|           null|                      null|         null|               null|            null|            null|        ISCGEM859200|   ISCGEM|         ISCGEM|          ISCGEM|Automatic|\n",
            "|02/04/1965|05:01:22|  51.251|  178.715|Earthquake| 30.3|       null|                  null|      8.7|            MW|           null|                      null|         null|               null|            null|            null|OFFICIAL196502040...| OFFICIAL|         ISCGEM|        OFFICIAL|Automatic|\n",
            "|02/04/1965|06:04:59|  51.639|  175.055|Earthquake|   30|       null|                  null|        6|            MW|           null|                      null|         null|               null|            null|            null|     ISCGEMSUP859215|ISCGEMSUP|         ISCGEM|          ISCGEM|Automatic|\n",
            "|02/04/1965|06:37:06|  52.528|  172.007|Earthquake|   25|       null|                  null|      5.7|            MW|           null|                      null|         null|               null|            null|            null|        ISCGEM859221|   ISCGEM|         ISCGEM|          ISCGEM|Automatic|\n",
            "|02/04/1965|06:39:32|  51.626|  175.746|Earthquake|   25|       null|                  null|      5.8|            MW|           null|                      null|         null|               null|            null|            null|        ISCGEM859222|   ISCGEM|         ISCGEM|          ISCGEM|Automatic|\n",
            "+----------+--------+--------+---------+----------+-----+-----------+----------------------+---------+--------------+---------------+--------------------------+-------------+-------------------+----------------+----------------+--------------------+---------+---------------+----------------+---------+\n",
            "only showing top 20 rows\n",
            "\n"
          ]
        }
      ]
    },
    {
      "cell_type": "code",
      "source": [
        "from pyspark.sql.functions import *\n",
        "\n",
        "df = mydata.withColumn(\"Timestamp\", to_timestamp(concat_ws(\" \", col(\"Date\"), col(\"Time\")), \"M/d/yyyy H:mm:ss\"))\n",
        "\n",
        "df=df.drop(\"Date\",\"Time\")\n",
        "\n",
        "df.show()"
      ],
      "metadata": {
        "colab": {
          "base_uri": "https://localhost:8080/"
        },
        "id": "RhqCfGlZMG2e",
        "outputId": "b77832bf-4690-40b8-aecf-50ba28364628"
      },
      "execution_count": null,
      "outputs": [
        {
          "output_type": "stream",
          "name": "stdout",
          "text": [
            "+--------+---------+----------+-----+-----------+----------------------+---------+--------------+---------------+--------------------------+-------------+-------------------+----------------+----------------+--------------------+---------+---------------+----------------+---------+-------------------+\n",
            "|Latitude|Longitude|      Type|Depth|Depth Error|Depth Seismic Stations|Magnitude|Magnitude Type|Magnitude Error|Magnitude Seismic Stations|Azimuthal Gap|Horizontal Distance|Horizontal Error|Root Mean Square|                  ID|   Source|Location Source|Magnitude Source|   Status|          Timestamp|\n",
            "+--------+---------+----------+-----+-----------+----------------------+---------+--------------+---------------+--------------------------+-------------+-------------------+----------------+----------------+--------------------+---------+---------------+----------------+---------+-------------------+\n",
            "|  19.246|  145.616|Earthquake|131.6|       null|                  null|        6|            MW|           null|                      null|         null|               null|            null|            null|        ISCGEM860706|   ISCGEM|         ISCGEM|          ISCGEM|Automatic|1965-01-02 13:44:18|\n",
            "|   1.863|  127.352|Earthquake|   80|       null|                  null|      5.8|            MW|           null|                      null|         null|               null|            null|            null|        ISCGEM860737|   ISCGEM|         ISCGEM|          ISCGEM|Automatic|1965-01-04 11:29:49|\n",
            "| -20.579| -173.972|Earthquake|   20|       null|                  null|      6.2|            MW|           null|                      null|         null|               null|            null|            null|        ISCGEM860762|   ISCGEM|         ISCGEM|          ISCGEM|Automatic|1965-01-05 18:05:58|\n",
            "| -59.076|  -23.557|Earthquake|   15|       null|                  null|      5.8|            MW|           null|                      null|         null|               null|            null|            null|        ISCGEM860856|   ISCGEM|         ISCGEM|          ISCGEM|Automatic|1965-01-08 18:49:43|\n",
            "|  11.938|  126.427|Earthquake|   15|       null|                  null|      5.8|            MW|           null|                      null|         null|               null|            null|            null|        ISCGEM860890|   ISCGEM|         ISCGEM|          ISCGEM|Automatic|1965-01-09 13:32:50|\n",
            "| -13.405|  166.629|Earthquake|   35|       null|                  null|      6.7|            MW|           null|                      null|         null|               null|            null|            null|        ISCGEM860922|   ISCGEM|         ISCGEM|          ISCGEM|Automatic|1965-01-10 13:36:32|\n",
            "|  27.357|   87.867|Earthquake|   20|       null|                  null|      5.9|            MW|           null|                      null|         null|               null|            null|            null|        ISCGEM861007|   ISCGEM|         ISCGEM|          ISCGEM|Automatic|1965-01-12 13:32:25|\n",
            "| -13.309|  166.212|Earthquake|   35|       null|                  null|        6|            MW|           null|                      null|         null|               null|            null|            null|        ISCGEM861111|   ISCGEM|         ISCGEM|          ISCGEM|Automatic|1965-01-15 23:17:42|\n",
            "| -56.452|  -27.043|Earthquake|   95|       null|                  null|        6|            MW|           null|                      null|         null|               null|            null|            null|     ISCGEMSUP861125|ISCGEMSUP|         ISCGEM|          ISCGEM|Automatic|1965-01-16 11:32:37|\n",
            "| -24.563|  178.487|Earthquake|  565|       null|                  null|      5.8|            MW|           null|                      null|         null|               null|            null|            null|        ISCGEM861148|   ISCGEM|         ISCGEM|          ISCGEM|Automatic|1965-01-17 10:43:17|\n",
            "|  -6.807|  108.988|Earthquake|227.9|       null|                  null|      5.9|            MW|           null|                      null|         null|               null|            null|            null|        ISCGEM861155|   ISCGEM|         ISCGEM|          ISCGEM|Automatic|1965-01-17 20:57:41|\n",
            "|  -2.608|  125.952|Earthquake|   20|       null|                  null|      8.2|            MW|           null|                      null|         null|               null|            null|            null|        ISCGEM861299|   ISCGEM|         ISCGEM|          ISCGEM|Automatic|1965-01-24 00:11:17|\n",
            "|  54.636|  161.703|Earthquake|   55|       null|                  null|      5.5|            MW|           null|                      null|         null|               null|            null|            null|        ISCGEM861461|   ISCGEM|         ISCGEM|          ISCGEM|Automatic|1965-01-29 09:35:30|\n",
            "| -18.697| -177.864|Earthquake|482.9|       null|                  null|      5.6|            MW|           null|                      null|         null|               null|            null|            null|        ISCGEM859136|   ISCGEM|         ISCGEM|          ISCGEM|Automatic|1965-02-01 05:27:06|\n",
            "|  37.523|   73.251|Earthquake|   15|       null|                  null|        6|            MW|           null|                      null|         null|               null|            null|            null|        ISCGEM859164|   ISCGEM|         ISCGEM|          ISCGEM|Automatic|1965-02-02 15:56:51|\n",
            "|  -51.84|  139.741|Earthquake|   10|       null|                  null|      6.1|            MW|           null|                      null|         null|               null|            null|            null|        ISCGEM859200|   ISCGEM|         ISCGEM|          ISCGEM|Automatic|1965-02-04 03:25:00|\n",
            "|  51.251|  178.715|Earthquake| 30.3|       null|                  null|      8.7|            MW|           null|                      null|         null|               null|            null|            null|OFFICIAL196502040...| OFFICIAL|         ISCGEM|        OFFICIAL|Automatic|1965-02-04 05:01:22|\n",
            "|  51.639|  175.055|Earthquake|   30|       null|                  null|        6|            MW|           null|                      null|         null|               null|            null|            null|     ISCGEMSUP859215|ISCGEMSUP|         ISCGEM|          ISCGEM|Automatic|1965-02-04 06:04:59|\n",
            "|  52.528|  172.007|Earthquake|   25|       null|                  null|      5.7|            MW|           null|                      null|         null|               null|            null|            null|        ISCGEM859221|   ISCGEM|         ISCGEM|          ISCGEM|Automatic|1965-02-04 06:37:06|\n",
            "|  51.626|  175.746|Earthquake|   25|       null|                  null|      5.8|            MW|           null|                      null|         null|               null|            null|            null|        ISCGEM859222|   ISCGEM|         ISCGEM|          ISCGEM|Automatic|1965-02-04 06:39:32|\n",
            "+--------+---------+----------+-----+-----------+----------------------+---------+--------------+---------------+--------------------------+-------------+-------------------+----------------+----------------+--------------------+---------+---------------+----------------+---------+-------------------+\n",
            "only showing top 20 rows\n",
            "\n"
          ]
        }
      ]
    },
    {
      "cell_type": "code",
      "source": [
        "df = df.filter(mydata.Magnitude > 5.0)\n",
        "df.show()"
      ],
      "metadata": {
        "colab": {
          "base_uri": "https://localhost:8080/"
        },
        "id": "bYVD4HznNURg",
        "outputId": "fd3c010f-92c6-477e-c6ce-9c951a29aaf9"
      },
      "execution_count": null,
      "outputs": [
        {
          "output_type": "stream",
          "name": "stdout",
          "text": [
            "+--------+---------+----------+-----+-----------+----------------------+---------+--------------+---------------+--------------------------+-------------+-------------------+----------------+----------------+--------------------+---------+---------------+----------------+---------+-------------------+\n",
            "|Latitude|Longitude|      Type|Depth|Depth Error|Depth Seismic Stations|Magnitude|Magnitude Type|Magnitude Error|Magnitude Seismic Stations|Azimuthal Gap|Horizontal Distance|Horizontal Error|Root Mean Square|                  ID|   Source|Location Source|Magnitude Source|   Status|          Timestamp|\n",
            "+--------+---------+----------+-----+-----------+----------------------+---------+--------------+---------------+--------------------------+-------------+-------------------+----------------+----------------+--------------------+---------+---------------+----------------+---------+-------------------+\n",
            "|  19.246|  145.616|Earthquake|131.6|       null|                  null|        6|            MW|           null|                      null|         null|               null|            null|            null|        ISCGEM860706|   ISCGEM|         ISCGEM|          ISCGEM|Automatic|1965-01-02 13:44:18|\n",
            "|   1.863|  127.352|Earthquake|   80|       null|                  null|      5.8|            MW|           null|                      null|         null|               null|            null|            null|        ISCGEM860737|   ISCGEM|         ISCGEM|          ISCGEM|Automatic|1965-01-04 11:29:49|\n",
            "| -20.579| -173.972|Earthquake|   20|       null|                  null|      6.2|            MW|           null|                      null|         null|               null|            null|            null|        ISCGEM860762|   ISCGEM|         ISCGEM|          ISCGEM|Automatic|1965-01-05 18:05:58|\n",
            "| -59.076|  -23.557|Earthquake|   15|       null|                  null|      5.8|            MW|           null|                      null|         null|               null|            null|            null|        ISCGEM860856|   ISCGEM|         ISCGEM|          ISCGEM|Automatic|1965-01-08 18:49:43|\n",
            "|  11.938|  126.427|Earthquake|   15|       null|                  null|      5.8|            MW|           null|                      null|         null|               null|            null|            null|        ISCGEM860890|   ISCGEM|         ISCGEM|          ISCGEM|Automatic|1965-01-09 13:32:50|\n",
            "| -13.405|  166.629|Earthquake|   35|       null|                  null|      6.7|            MW|           null|                      null|         null|               null|            null|            null|        ISCGEM860922|   ISCGEM|         ISCGEM|          ISCGEM|Automatic|1965-01-10 13:36:32|\n",
            "|  27.357|   87.867|Earthquake|   20|       null|                  null|      5.9|            MW|           null|                      null|         null|               null|            null|            null|        ISCGEM861007|   ISCGEM|         ISCGEM|          ISCGEM|Automatic|1965-01-12 13:32:25|\n",
            "| -13.309|  166.212|Earthquake|   35|       null|                  null|        6|            MW|           null|                      null|         null|               null|            null|            null|        ISCGEM861111|   ISCGEM|         ISCGEM|          ISCGEM|Automatic|1965-01-15 23:17:42|\n",
            "| -56.452|  -27.043|Earthquake|   95|       null|                  null|        6|            MW|           null|                      null|         null|               null|            null|            null|     ISCGEMSUP861125|ISCGEMSUP|         ISCGEM|          ISCGEM|Automatic|1965-01-16 11:32:37|\n",
            "| -24.563|  178.487|Earthquake|  565|       null|                  null|      5.8|            MW|           null|                      null|         null|               null|            null|            null|        ISCGEM861148|   ISCGEM|         ISCGEM|          ISCGEM|Automatic|1965-01-17 10:43:17|\n",
            "|  -6.807|  108.988|Earthquake|227.9|       null|                  null|      5.9|            MW|           null|                      null|         null|               null|            null|            null|        ISCGEM861155|   ISCGEM|         ISCGEM|          ISCGEM|Automatic|1965-01-17 20:57:41|\n",
            "|  -2.608|  125.952|Earthquake|   20|       null|                  null|      8.2|            MW|           null|                      null|         null|               null|            null|            null|        ISCGEM861299|   ISCGEM|         ISCGEM|          ISCGEM|Automatic|1965-01-24 00:11:17|\n",
            "|  54.636|  161.703|Earthquake|   55|       null|                  null|      5.5|            MW|           null|                      null|         null|               null|            null|            null|        ISCGEM861461|   ISCGEM|         ISCGEM|          ISCGEM|Automatic|1965-01-29 09:35:30|\n",
            "| -18.697| -177.864|Earthquake|482.9|       null|                  null|      5.6|            MW|           null|                      null|         null|               null|            null|            null|        ISCGEM859136|   ISCGEM|         ISCGEM|          ISCGEM|Automatic|1965-02-01 05:27:06|\n",
            "|  37.523|   73.251|Earthquake|   15|       null|                  null|        6|            MW|           null|                      null|         null|               null|            null|            null|        ISCGEM859164|   ISCGEM|         ISCGEM|          ISCGEM|Automatic|1965-02-02 15:56:51|\n",
            "|  -51.84|  139.741|Earthquake|   10|       null|                  null|      6.1|            MW|           null|                      null|         null|               null|            null|            null|        ISCGEM859200|   ISCGEM|         ISCGEM|          ISCGEM|Automatic|1965-02-04 03:25:00|\n",
            "|  51.251|  178.715|Earthquake| 30.3|       null|                  null|      8.7|            MW|           null|                      null|         null|               null|            null|            null|OFFICIAL196502040...| OFFICIAL|         ISCGEM|        OFFICIAL|Automatic|1965-02-04 05:01:22|\n",
            "|  51.639|  175.055|Earthquake|   30|       null|                  null|        6|            MW|           null|                      null|         null|               null|            null|            null|     ISCGEMSUP859215|ISCGEMSUP|         ISCGEM|          ISCGEM|Automatic|1965-02-04 06:04:59|\n",
            "|  52.528|  172.007|Earthquake|   25|       null|                  null|      5.7|            MW|           null|                      null|         null|               null|            null|            null|        ISCGEM859221|   ISCGEM|         ISCGEM|          ISCGEM|Automatic|1965-02-04 06:37:06|\n",
            "|  51.626|  175.746|Earthquake|   25|       null|                  null|      5.8|            MW|           null|                      null|         null|               null|            null|            null|        ISCGEM859222|   ISCGEM|         ISCGEM|          ISCGEM|Automatic|1965-02-04 06:39:32|\n",
            "+--------+---------+----------+-----+-----------+----------------------+---------+--------------+---------------+--------------------------+-------------+-------------------+----------------+----------------+--------------------+---------+---------------+----------------+---------+-------------------+\n",
            "only showing top 20 rows\n",
            "\n"
          ]
        }
      ]
    },
    {
      "cell_type": "code",
      "source": [
        "import pyspark.sql.functions as sqlfunc\n",
        "df1 = mydata.groupBy(\"Type\").agg(sqlfunc.avg(\"Depth\"),sqlfunc.avg(\"Magnitude\"))\n",
        "df1.show()"
      ],
      "metadata": {
        "colab": {
          "base_uri": "https://localhost:8080/"
        },
        "id": "4PWtvxR8XkcP",
        "outputId": "6a3ab815-4b51-4d0c-dee2-f6db82f1ff33"
      },
      "execution_count": null,
      "outputs": [
        {
          "output_type": "stream",
          "name": "stdout",
          "text": [
            "+-----------------+-----------------+-----------------+\n",
            "|             Type|       avg(Depth)|   avg(Magnitude)|\n",
            "+-----------------+-----------------+-----------------+\n",
            "|        Explosion|              0.0|             5.85|\n",
            "|       Rock Burst|              1.0|              6.2|\n",
            "|Nuclear Explosion|              0.3|5.850685714285718|\n",
            "|       Earthquake|71.31391348140497|5.882762568870756|\n",
            "+-----------------+-----------------+-----------------+\n",
            "\n"
          ]
        }
      ]
    },
    {
      "cell_type": "code",
      "source": [
        "def categorize_level(type,magnitude):\n",
        "  if type == \"Earthquake\" and magnitude < 3.0:\n",
        "    return \"Low\"\n",
        "  elif type == \"Earthquake\" and magnitude >= 3.0 and magnitude <= 6.0:\n",
        "    return \"Moderate\"\n",
        "  elif type == \"Earthquake\" and magnitude >= 6.0:\n",
        "    return \"High\"\n",
        "\n",
        "categorize_level_udf = udf(categorize_level,  StringType())\n",
        "\n",
        "df = df.withColumn(\"Level\", categorize_level_udf(\"Type\", mydata.Magnitude.cast(\"float\")))\n",
        "\n",
        "\n",
        "df.show()\n",
        "\n",
        "\n"
      ],
      "metadata": {
        "colab": {
          "base_uri": "https://localhost:8080/"
        },
        "id": "-FuJctNTYFFJ",
        "outputId": "15991d7b-a2d2-455a-db02-e7c28aec848c"
      },
      "execution_count": null,
      "outputs": [
        {
          "output_type": "stream",
          "name": "stdout",
          "text": [
            "+--------+---------+----------+-----+-----------+----------------------+---------+--------------+---------------+--------------------------+-------------+-------------------+----------------+----------------+--------------------+---------+---------------+----------------+---------+-------------------+--------+\n",
            "|Latitude|Longitude|      Type|Depth|Depth Error|Depth Seismic Stations|Magnitude|Magnitude Type|Magnitude Error|Magnitude Seismic Stations|Azimuthal Gap|Horizontal Distance|Horizontal Error|Root Mean Square|                  ID|   Source|Location Source|Magnitude Source|   Status|          Timestamp|   Level|\n",
            "+--------+---------+----------+-----+-----------+----------------------+---------+--------------+---------------+--------------------------+-------------+-------------------+----------------+----------------+--------------------+---------+---------------+----------------+---------+-------------------+--------+\n",
            "|  19.246|  145.616|Earthquake|131.6|       null|                  null|        6|            MW|           null|                      null|         null|               null|            null|            null|        ISCGEM860706|   ISCGEM|         ISCGEM|          ISCGEM|Automatic|1965-01-02 13:44:18|Moderate|\n",
            "|   1.863|  127.352|Earthquake|   80|       null|                  null|      5.8|            MW|           null|                      null|         null|               null|            null|            null|        ISCGEM860737|   ISCGEM|         ISCGEM|          ISCGEM|Automatic|1965-01-04 11:29:49|Moderate|\n",
            "| -20.579| -173.972|Earthquake|   20|       null|                  null|      6.2|            MW|           null|                      null|         null|               null|            null|            null|        ISCGEM860762|   ISCGEM|         ISCGEM|          ISCGEM|Automatic|1965-01-05 18:05:58|    High|\n",
            "| -59.076|  -23.557|Earthquake|   15|       null|                  null|      5.8|            MW|           null|                      null|         null|               null|            null|            null|        ISCGEM860856|   ISCGEM|         ISCGEM|          ISCGEM|Automatic|1965-01-08 18:49:43|Moderate|\n",
            "|  11.938|  126.427|Earthquake|   15|       null|                  null|      5.8|            MW|           null|                      null|         null|               null|            null|            null|        ISCGEM860890|   ISCGEM|         ISCGEM|          ISCGEM|Automatic|1965-01-09 13:32:50|Moderate|\n",
            "| -13.405|  166.629|Earthquake|   35|       null|                  null|      6.7|            MW|           null|                      null|         null|               null|            null|            null|        ISCGEM860922|   ISCGEM|         ISCGEM|          ISCGEM|Automatic|1965-01-10 13:36:32|    High|\n",
            "|  27.357|   87.867|Earthquake|   20|       null|                  null|      5.9|            MW|           null|                      null|         null|               null|            null|            null|        ISCGEM861007|   ISCGEM|         ISCGEM|          ISCGEM|Automatic|1965-01-12 13:32:25|Moderate|\n",
            "| -13.309|  166.212|Earthquake|   35|       null|                  null|        6|            MW|           null|                      null|         null|               null|            null|            null|        ISCGEM861111|   ISCGEM|         ISCGEM|          ISCGEM|Automatic|1965-01-15 23:17:42|Moderate|\n",
            "| -56.452|  -27.043|Earthquake|   95|       null|                  null|        6|            MW|           null|                      null|         null|               null|            null|            null|     ISCGEMSUP861125|ISCGEMSUP|         ISCGEM|          ISCGEM|Automatic|1965-01-16 11:32:37|Moderate|\n",
            "| -24.563|  178.487|Earthquake|  565|       null|                  null|      5.8|            MW|           null|                      null|         null|               null|            null|            null|        ISCGEM861148|   ISCGEM|         ISCGEM|          ISCGEM|Automatic|1965-01-17 10:43:17|Moderate|\n",
            "|  -6.807|  108.988|Earthquake|227.9|       null|                  null|      5.9|            MW|           null|                      null|         null|               null|            null|            null|        ISCGEM861155|   ISCGEM|         ISCGEM|          ISCGEM|Automatic|1965-01-17 20:57:41|Moderate|\n",
            "|  -2.608|  125.952|Earthquake|   20|       null|                  null|      8.2|            MW|           null|                      null|         null|               null|            null|            null|        ISCGEM861299|   ISCGEM|         ISCGEM|          ISCGEM|Automatic|1965-01-24 00:11:17|    High|\n",
            "|  54.636|  161.703|Earthquake|   55|       null|                  null|      5.5|            MW|           null|                      null|         null|               null|            null|            null|        ISCGEM861461|   ISCGEM|         ISCGEM|          ISCGEM|Automatic|1965-01-29 09:35:30|Moderate|\n",
            "| -18.697| -177.864|Earthquake|482.9|       null|                  null|      5.6|            MW|           null|                      null|         null|               null|            null|            null|        ISCGEM859136|   ISCGEM|         ISCGEM|          ISCGEM|Automatic|1965-02-01 05:27:06|Moderate|\n",
            "|  37.523|   73.251|Earthquake|   15|       null|                  null|        6|            MW|           null|                      null|         null|               null|            null|            null|        ISCGEM859164|   ISCGEM|         ISCGEM|          ISCGEM|Automatic|1965-02-02 15:56:51|Moderate|\n",
            "|  -51.84|  139.741|Earthquake|   10|       null|                  null|      6.1|            MW|           null|                      null|         null|               null|            null|            null|        ISCGEM859200|   ISCGEM|         ISCGEM|          ISCGEM|Automatic|1965-02-04 03:25:00|    High|\n",
            "|  51.251|  178.715|Earthquake| 30.3|       null|                  null|      8.7|            MW|           null|                      null|         null|               null|            null|            null|OFFICIAL196502040...| OFFICIAL|         ISCGEM|        OFFICIAL|Automatic|1965-02-04 05:01:22|    High|\n",
            "|  51.639|  175.055|Earthquake|   30|       null|                  null|        6|            MW|           null|                      null|         null|               null|            null|            null|     ISCGEMSUP859215|ISCGEMSUP|         ISCGEM|          ISCGEM|Automatic|1965-02-04 06:04:59|Moderate|\n",
            "|  52.528|  172.007|Earthquake|   25|       null|                  null|      5.7|            MW|           null|                      null|         null|               null|            null|            null|        ISCGEM859221|   ISCGEM|         ISCGEM|          ISCGEM|Automatic|1965-02-04 06:37:06|Moderate|\n",
            "|  51.626|  175.746|Earthquake|   25|       null|                  null|      5.8|            MW|           null|                      null|         null|               null|            null|            null|        ISCGEM859222|   ISCGEM|         ISCGEM|          ISCGEM|Automatic|1965-02-04 06:39:32|Moderate|\n",
            "+--------+---------+----------+-----+-----------+----------------------+---------+--------------+---------------+--------------------------+-------------+-------------------+----------------+----------------+--------------------+---------+---------------+----------------+---------+-------------------+--------+\n",
            "only showing top 20 rows\n",
            "\n"
          ]
        }
      ]
    },
    {
      "cell_type": "code",
      "source": [
        "\n",
        "\n",
        "reference_location = (0, 0)\n",
        "\n",
        "# Calculate distance using Pythagorean theorem\n",
        "df = df.withColumn(\"Distance\", sqrt(pow(col(\"Latitude\") - reference_location[0], 2) + pow(col(\"Longitude\") - reference_location[1], 2)))\n",
        "df.show()\n",
        "\n"
      ],
      "metadata": {
        "colab": {
          "base_uri": "https://localhost:8080/"
        },
        "id": "2c4M4d47a_Dg",
        "outputId": "dc293809-3d58-48a2-fae1-9faccda2c3f0"
      },
      "execution_count": null,
      "outputs": [
        {
          "output_type": "stream",
          "name": "stdout",
          "text": [
            "+--------+---------+----------+-----+-----------+----------------------+---------+--------------+---------------+--------------------------+-------------+-------------------+----------------+----------------+--------------------+---------+---------------+----------------+---------+-------------------+--------+------------------+\n",
            "|Latitude|Longitude|      Type|Depth|Depth Error|Depth Seismic Stations|Magnitude|Magnitude Type|Magnitude Error|Magnitude Seismic Stations|Azimuthal Gap|Horizontal Distance|Horizontal Error|Root Mean Square|                  ID|   Source|Location Source|Magnitude Source|   Status|          Timestamp|   Level|          Distance|\n",
            "+--------+---------+----------+-----+-----------+----------------------+---------+--------------+---------------+--------------------------+-------------+-------------------+----------------+----------------+--------------------+---------+---------------+----------------+---------+-------------------+--------+------------------+\n",
            "|  19.246|  145.616|Earthquake|131.6|       null|                  null|        6|            MW|           null|                      null|         null|               null|            null|            null|        ISCGEM860706|   ISCGEM|         ISCGEM|          ISCGEM|Automatic|1965-01-02 13:44:18|Moderate| 146.8823609968195|\n",
            "|   1.863|  127.352|Earthquake|   80|       null|                  null|      5.8|            MW|           null|                      null|         null|               null|            null|            null|        ISCGEM860737|   ISCGEM|         ISCGEM|          ISCGEM|Automatic|1965-01-04 11:29:49|Moderate|127.36562594750595|\n",
            "| -20.579| -173.972|Earthquake|   20|       null|                  null|      6.2|            MW|           null|                      null|         null|               null|            null|            null|        ISCGEM860762|   ISCGEM|         ISCGEM|          ISCGEM|Automatic|1965-01-05 18:05:58|    High|175.18490809713035|\n",
            "| -59.076|  -23.557|Earthquake|   15|       null|                  null|      5.8|            MW|           null|                      null|         null|               null|            null|            null|        ISCGEM860856|   ISCGEM|         ISCGEM|          ISCGEM|Automatic|1965-01-08 18:49:43|Moderate| 63.59957566682344|\n",
            "|  11.938|  126.427|Earthquake|   15|       null|                  null|      5.8|            MW|           null|                      null|         null|               null|            null|            null|        ISCGEM860890|   ISCGEM|         ISCGEM|          ISCGEM|Automatic|1965-01-09 13:32:50|Moderate|126.98937818967381|\n",
            "| -13.405|  166.629|Earthquake|   35|       null|                  null|      6.7|            MW|           null|                      null|         null|               null|            null|            null|        ISCGEM860922|   ISCGEM|         ISCGEM|          ISCGEM|Automatic|1965-01-10 13:36:32|    High|167.16733432701497|\n",
            "|  27.357|   87.867|Earthquake|   20|       null|                  null|      5.9|            MW|           null|                      null|         null|               null|            null|            null|        ISCGEM861007|   ISCGEM|         ISCGEM|          ISCGEM|Automatic|1965-01-12 13:32:25|Moderate| 92.02725214848046|\n",
            "| -13.309|  166.212|Earthquake|   35|       null|                  null|        6|            MW|           null|                      null|         null|               null|            null|            null|        ISCGEM861111|   ISCGEM|         ISCGEM|          ISCGEM|Automatic|1965-01-15 23:17:42|Moderate|166.74399067132822|\n",
            "| -56.452|  -27.043|Earthquake|   95|       null|                  null|        6|            MW|           null|                      null|         null|               null|            null|            null|     ISCGEMSUP861125|ISCGEMSUP|         ISCGEM|          ISCGEM|Automatic|1965-01-16 11:32:37|Moderate|62.595144803730584|\n",
            "| -24.563|  178.487|Earthquake|  565|       null|                  null|      5.8|            MW|           null|                      null|         null|               null|            null|            null|        ISCGEM861148|   ISCGEM|         ISCGEM|          ISCGEM|Automatic|1965-01-17 10:43:17|Moderate|180.16922639008027|\n",
            "|  -6.807|  108.988|Earthquake|227.9|       null|                  null|      5.9|            MW|           null|                      null|         null|               null|            null|            null|        ISCGEM861155|   ISCGEM|         ISCGEM|          ISCGEM|Automatic|1965-01-17 20:57:41|Moderate| 109.2003635204572|\n",
            "|  -2.608|  125.952|Earthquake|   20|       null|                  null|      8.2|            MW|           null|                      null|         null|               null|            null|            null|        ISCGEM861299|   ISCGEM|         ISCGEM|          ISCGEM|Automatic|1965-01-24 00:11:17|    High|125.97899812270298|\n",
            "|  54.636|  161.703|Earthquake|   55|       null|                  null|      5.5|            MW|           null|                      null|         null|               null|            null|            null|        ISCGEM861461|   ISCGEM|         ISCGEM|          ISCGEM|Automatic|1965-01-29 09:35:30|Moderate|170.68377985327137|\n",
            "| -18.697| -177.864|Earthquake|482.9|       null|                  null|      5.6|            MW|           null|                      null|         null|               null|            null|            null|        ISCGEM859136|   ISCGEM|         ISCGEM|          ISCGEM|Automatic|1965-02-01 05:27:06|Moderate|178.84401109626234|\n",
            "|  37.523|   73.251|Earthquake|   15|       null|                  null|        6|            MW|           null|                      null|         null|               null|            null|            null|        ISCGEM859164|   ISCGEM|         ISCGEM|          ISCGEM|Automatic|1965-02-02 15:56:51|Moderate| 82.30239686667699|\n",
            "|  -51.84|  139.741|Earthquake|   10|       null|                  null|      6.1|            MW|           null|                      null|         null|               null|            null|            null|        ISCGEM859200|   ISCGEM|         ISCGEM|          ISCGEM|Automatic|1965-02-04 03:25:00|    High|149.04674663004224|\n",
            "|  51.251|  178.715|Earthquake| 30.3|       null|                  null|      8.7|            MW|           null|                      null|         null|               null|            null|            null|OFFICIAL196502040...| OFFICIAL|         ISCGEM|        OFFICIAL|Automatic|1965-02-04 05:01:22|    High|185.91857418235546|\n",
            "|  51.639|  175.055|Earthquake|   30|       null|                  null|        6|            MW|           null|                      null|         null|               null|            null|            null|     ISCGEMSUP859215|ISCGEMSUP|         ISCGEM|          ISCGEM|Automatic|1965-02-04 06:04:59|Moderate|182.51257311758005|\n",
            "|  52.528|  172.007|Earthquake|   25|       null|                  null|      5.7|            MW|           null|                      null|         null|               null|            null|            null|        ISCGEM859221|   ISCGEM|         ISCGEM|          ISCGEM|Automatic|1965-02-04 06:37:06|Moderate| 179.8488221618368|\n",
            "|  51.626|  175.746|Earthquake|   25|       null|                  null|      5.8|            MW|           null|                      null|         null|               null|            null|            null|        ISCGEM859222|   ISCGEM|         ISCGEM|          ISCGEM|Automatic|1965-02-04 06:39:32|Moderate|183.17177837210622|\n",
            "+--------+---------+----------+-----+-----------+----------------------+---------+--------------+---------------+--------------------------+-------------+-------------------+----------------+----------------+--------------------+---------+---------------+----------------+---------+-------------------+--------+------------------+\n",
            "only showing top 20 rows\n",
            "\n"
          ]
        }
      ]
    },
    {
      "cell_type": "code",
      "source": [
        "import folium\n",
        "\n",
        "# Convert Spark DataFrame to Pandas DataFrame\n",
        "pandas_df = df.toPandas()\n",
        "\n",
        "# Create a Folium Map centered at (0, 0)\n",
        "earthquake_map = folium.Map(location=[0, 0], zoom_start=2)\n",
        "\n",
        "# Add markers for each earthquake\n",
        "for index, row in pandas_df.iterrows():\n",
        "    folium.Marker([row['Latitude'], row['Longitude']],\n",
        "                  popup=f\"<b>Type:</b> {row['Type']}<br><b>Magnitude:</b> {row['Magnitude']}\",\n",
        "                  icon=folium.Icon(color='red')).add_to(earthquake_map)\n",
        "\n",
        "# Save the map to an HTML file\n",
        "earthquake_map.save(\"earthquake_map.html\")\n"
      ],
      "metadata": {
        "colab": {
          "base_uri": "https://localhost:8080/"
        },
        "id": "JGy1yGODiUM3",
        "outputId": "da075669-2677-44d8-ff74-75fb7f3ad2be"
      },
      "execution_count": null,
      "outputs": [
        {
          "output_type": "stream",
          "name": "stderr",
          "text": [
            "/content/spark-3.1.1-bin-hadoop3.2/python/pyspark/sql/pandas/conversion.py:178: FutureWarning: Passing unit-less datetime64 dtype to .astype is deprecated and will raise in a future version. Pass 'datetime64[ns]' instead\n",
            "  series = series.astype(t, copy=False)\n"
          ]
        }
      ]
    },
    {
      "cell_type": "code",
      "source": [
        "df.write.csv(\"Final_output.csv\",header=True)"
      ],
      "metadata": {
        "id": "kQGx059mjEHm"
      },
      "execution_count": null,
      "outputs": []
    },
    {
      "cell_type": "code",
      "source": [],
      "metadata": {
        "id": "SXh7_yiPMBXt"
      },
      "execution_count": null,
      "outputs": []
    }
  ]
}